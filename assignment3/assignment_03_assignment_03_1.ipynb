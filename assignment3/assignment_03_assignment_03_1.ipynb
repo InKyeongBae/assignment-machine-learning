{
 "cells": [
  {
   "cell_type": "markdown",
   "metadata": {},
   "source": [
    "# Derivative of Matrix"
   ]
  },
  {
   "cell_type": "markdown",
   "metadata": {},
   "source": [
    "## import library"
   ]
  },
  {
   "cell_type": "code",
   "execution_count": 9,
   "metadata": {},
   "outputs": [],
   "source": [
    "import numpy as np\n",
    "import matplotlib.image as img\n",
    "import matplotlib.pyplot as plt\n",
    "import matplotlib.colors as colors"
   ]
  },
  {
   "cell_type": "markdown",
   "metadata": {},
   "source": [
    "## load image "
   ]
  },
  {
   "cell_type": "code",
   "execution_count": 10,
   "metadata": {},
   "outputs": [],
   "source": [
    "I = img.imread('.\\image1.jpg')  "
   ]
  },
  {
   "cell_type": "markdown",
   "metadata": {},
   "source": [
    "## check the size of image"
   ]
  },
  {
   "cell_type": "code",
   "execution_count": 11,
   "metadata": {},
   "outputs": [
    {
     "name": "stdout",
     "output_type": "stream",
     "text": [
      "(525, 788, 3)\n"
     ]
    }
   ],
   "source": [
    "n_row = I.shape[0]\n",
    "n_col = I.shape[1]\n",
    "\n",
    "print(I.shape)"
   ]
  },
  {
   "cell_type": "markdown",
   "metadata": {},
   "source": [
    "## convert the input image into gray scale if it is color"
   ]
  },
  {
   "cell_type": "code",
   "execution_count": 12,
   "metadata": {},
   "outputs": [
    {
     "name": "stdout",
     "output_type": "stream",
     "text": [
      "(525, 788)\n"
     ]
    }
   ],
   "source": [
    "if I.shape[2] == 3 :\n",
    "\n",
    "    R = I[:, :, 0]\n",
    "    G = I[:, :, 1]\n",
    "    B = I[:, :, 2]\n",
    "    I = (R + G + B) / 3\n",
    "    print(I.shape)"
   ]
  },
  {
   "cell_type": "markdown",
   "metadata": {},
   "source": [
    "## normalize input image so that the range of image is $[0, 1]$"
   ]
  },
  {
   "cell_type": "code",
   "execution_count": 15,
   "metadata": {},
   "outputs": [
    {
     "name": "stdout",
     "output_type": "stream",
     "text": [
      "[[0.63921569 0.63921569 0.63921569 ... 0.69803922 0.69803922 0.69803922]\n",
      " [0.65490196 0.65490196 0.65490196 ... 0.70196078 0.70196078 0.70196078]\n",
      " [0.65490196 0.66666667 0.66666667 ... 0.69803922 0.69803922 0.69803922]\n",
      " ...\n",
      " [0.6627451  0.64705882 0.62352941 ... 0.37254902 0.37254902 0.37254902]\n",
      " [0.59215686 0.59215686 0.59215686 ... 0.40784314 0.41960784 0.41960784]\n",
      " [0.5372549  0.56078431 0.59607843 ... 0.44313725 0.45490196 0.47843137]]\n"
     ]
    }
   ],
   "source": [
    "I = (I - np.min(I)) / (np.max(I) - np.min(I))\n",
    "print(I)"
   ]
  },
  {
   "cell_type": "markdown",
   "metadata": {},
   "source": [
    "```git commit -a -m \"load image\" ``` \\\n",
    "```git push origin master```"
   ]
  },
  {
   "cell_type": "markdown",
   "metadata": {},
   "source": [
    "## generate a matrix to compute the derivative in $x$-direction"
   ]
  },
  {
   "cell_type": "code",
   "execution_count": 16,
   "metadata": {},
   "outputs": [],
   "source": [
    "Dx = np.eye(n_col, k=-1, dtype=np.float64) - np.eye(n_col,k=0,dtype=np.float64)"
   ]
  },
  {
   "cell_type": "markdown",
   "metadata": {},
   "source": [
    "## compute the derivative of $I$ with respect to $x$-direction"
   ]
  },
  {
   "cell_type": "code",
   "execution_count": 17,
   "metadata": {},
   "outputs": [
    {
     "name": "stdout",
     "output_type": "stream",
     "text": [
      "[[ 0.          0.          0.         ...  0.          0.\n",
      "  -0.69803922]\n",
      " [ 0.          0.          0.         ...  0.          0.\n",
      "  -0.70196078]\n",
      " [ 0.01176471  0.          0.01176471 ...  0.          0.\n",
      "  -0.69803922]\n",
      " ...\n",
      " [-0.01568627 -0.02352941 -0.03529412 ...  0.          0.\n",
      "  -0.37254902]\n",
      " [ 0.          0.         -0.01568627 ...  0.01176471  0.\n",
      "  -0.41960784]\n",
      " [ 0.02352941  0.03529412 -0.00784314 ...  0.01176471  0.02352941\n",
      "  -0.47843137]]\n"
     ]
    }
   ],
   "source": [
    "Ix = np.dot(I, Dx)\n",
    "print(Ix)"
   ]
  },
  {
   "cell_type": "markdown",
   "metadata": {},
   "source": [
    "```git commit -a -m \"compute the derivative in x-direction\"``` \\\n",
    "```git push origin master```"
   ]
  },
  {
   "cell_type": "markdown",
   "metadata": {},
   "source": [
    "## generate a matrix to compute the derivative in $y$-direction"
   ]
  },
  {
   "cell_type": "code",
   "execution_count": 19,
   "metadata": {},
   "outputs": [],
   "source": [
    "Dy = np.eye(n_row, k=1, dtype=np.float64) - np.eye(n_row,k=0,dtype=np.float64)\n"
   ]
  },
  {
   "cell_type": "markdown",
   "metadata": {},
   "source": [
    "## compute the derivative of $I$ with respect to $y$-direction"
   ]
  },
  {
   "cell_type": "code",
   "execution_count": 20,
   "metadata": {},
   "outputs": [
    {
     "name": "stdout",
     "output_type": "stream",
     "text": [
      "[[ 0.01568627  0.01568627  0.01568627 ...  0.00392157  0.00392157\n",
      "   0.00392157]\n",
      " [ 0.          0.01176471  0.01176471 ... -0.00392157 -0.00392157\n",
      "  -0.00392157]\n",
      " [ 0.01176471  0.          0.         ...  0.          0.\n",
      "   0.        ]\n",
      " ...\n",
      " [-0.07058824 -0.05490196 -0.03137255 ...  0.03529412  0.04705882\n",
      "   0.04705882]\n",
      " [-0.05490196 -0.03137255  0.00392157 ...  0.03529412  0.03529412\n",
      "   0.05882353]\n",
      " [-0.5372549  -0.56078431 -0.59607843 ... -0.44313725 -0.45490196\n",
      "  -0.47843137]]\n"
     ]
    }
   ],
   "source": [
    "Iy = np.dot(Dy, I)\n",
    "print(Iy)"
   ]
  },
  {
   "cell_type": "markdown",
   "metadata": {},
   "source": [
    "```git commit -a -m \"compute the derivative in y-direction\"``` \\\n",
    "```git push origin master```"
   ]
  },
  {
   "cell_type": "markdown",
   "metadata": {},
   "source": [
    "## compute $L_2^2$ of the gradient of $I$"
   ]
  },
  {
   "cell_type": "code",
   "execution_count": null,
   "metadata": {},
   "outputs": [],
   "source": [
    "norm_gradient = "
   ]
  },
  {
   "cell_type": "markdown",
   "metadata": {},
   "source": [
    "## define functions for the visualization"
   ]
  },
  {
   "cell_type": "code",
   "execution_count": null,
   "metadata": {},
   "outputs": [],
   "source": [
    "def plot_image(I):\n",
    "    \n",
    "    plt.figure(figsize=(10,10))\n",
    "    plt.imshow( , , )\n",
    "    plt.title('input image')\n",
    "    plt.axis('off')\n",
    "        \n",
    "def plot_image_derivative_x(Ix):\n",
    "    \n",
    "    plt.figure(figsize=(10,10))\n",
    "    plt.imshow( , , )\n",
    "    plt.title('image derivative of x')\n",
    "    plt.axis('off')\n",
    "\n",
    "    \n",
    "def plot_image_derivative_y(Iy):\n",
    "    \n",
    "    plt.figure(figsize=(10,10))\n",
    "    plt.imshow( , , )\n",
    "    plt.title('image derivative of y')\n",
    "    plt.axis('off')\n",
    "\n",
    "    \n",
    "def plot_norm_gradient(norm_gradient):\n",
    "\n",
    "    plt.figure(figsize=(10,10))\n",
    "    plt.imshow( , , )\n",
    "    plt.title('norm gradient')\n",
    "    plt.axis('off')"
   ]
  },
  {
   "cell_type": "markdown",
   "metadata": {},
   "source": [
    "```git commit -a -m \"define functions for the visualization\"``` \\\n",
    "```git push origin master```"
   ]
  },
  {
   "cell_type": "markdown",
   "metadata": {},
   "source": [
    "# ###################################################################"
   ]
  },
  {
   "cell_type": "markdown",
   "metadata": {},
   "source": [
    "# # results"
   ]
  },
  {
   "cell_type": "markdown",
   "metadata": {},
   "source": [
    "# ###################################################################"
   ]
  },
  {
   "cell_type": "markdown",
   "metadata": {},
   "source": [
    "# # 01. plot the input image in gray scale"
   ]
  },
  {
   "cell_type": "code",
   "execution_count": null,
   "metadata": {},
   "outputs": [],
   "source": [
    "plot_image(I)"
   ]
  },
  {
   "cell_type": "markdown",
   "metadata": {},
   "source": [
    "# # 02. plot the derivative $I_x$ of input image in x-direction"
   ]
  },
  {
   "cell_type": "code",
   "execution_count": null,
   "metadata": {},
   "outputs": [],
   "source": [
    "plot_image_derivative_x(Ix)"
   ]
  },
  {
   "cell_type": "markdown",
   "metadata": {},
   "source": [
    "# # 03. plot the derivative $I_y$ of input image in y-direction"
   ]
  },
  {
   "cell_type": "code",
   "execution_count": null,
   "metadata": {},
   "outputs": [],
   "source": [
    "plot_image_derivative_y(Iy)"
   ]
  },
  {
   "cell_type": "markdown",
   "metadata": {},
   "source": [
    "# # 04. plot $L_2^2$ norm $I_x^2 + I_y^2$ of the gradient of input image"
   ]
  },
  {
   "cell_type": "code",
   "execution_count": null,
   "metadata": {},
   "outputs": [],
   "source": [
    "plot_norm_gradient(norm_gradient)"
   ]
  }
 ],
 "metadata": {
  "kernelspec": {
   "display_name": "Python 3",
   "language": "python",
   "name": "python3"
  },
  "language_info": {
   "codemirror_mode": {
    "name": "ipython",
    "version": 3
   },
   "file_extension": ".py",
   "mimetype": "text/x-python",
   "name": "python",
   "nbconvert_exporter": "python",
   "pygments_lexer": "ipython3",
   "version": "3.8.5"
  }
 },
 "nbformat": 4,
 "nbformat_minor": 2
}
