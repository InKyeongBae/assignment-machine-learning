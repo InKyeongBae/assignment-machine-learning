{
 "cells": [
  {
   "cell_type": "markdown",
   "metadata": {},
   "source": [
    "# Binary classification based on Logistic Regression using non-linear regression function"
   ]
  },
  {
   "cell_type": "markdown",
   "metadata": {},
   "source": [
    "## import library"
   ]
  },
  {
   "cell_type": "code",
   "execution_count": 1,
   "metadata": {},
   "outputs": [],
   "source": [
    "import numpy as np\n",
    "import matplotlib.pyplot as plt\n",
    "import matplotlib.colors as colors\n"
   ]
  },
  {
   "cell_type": "markdown",
   "metadata": {},
   "source": [
    "## load data"
   ]
  },
  {
   "cell_type": "code",
   "execution_count": 2,
   "metadata": {},
   "outputs": [],
   "source": [
    "fname_data1 = 'assignment_09_data1.txt'\n",
    "fname_data2 = 'assignment_09_data2.txt'\n",
    "\n",
    "data1 = np.genfromtxt(fname_data1, delimiter=',')\n",
    "data2 = np.genfromtxt(fname_data2, delimiter=',')\n",
    "\n",
    "num_data1 = data1.shape[0]\n",
    "num_data2 = data2.shape[0]\n",
    "\n",
    "x1 = np.zeros(num_data1)\n",
    "y1 = np.zeros(num_data1)\n",
    "label1   = np.zeros(num_data1)\n",
    "\n",
    "for i in range(num_data1):\n",
    "    x1[i]  = data1[i,0]\n",
    "    y1[i]  = data1[i,1]\n",
    "    label1[i]    = data1[i,2]\n",
    "    \n",
    "    \n",
    "x2 = np.zeros(num_data2)\n",
    "y2 = np.zeros(num_data2)\n",
    "label2   = np.zeros(num_data2)\n",
    "\n",
    "for i in range(num_data2):\n",
    "    x2[i]  = data2[i,0]\n",
    "    y2[i]  = data2[i,1]\n",
    "    label2[i]    = data2[i,2]\n",
    "    \n",
    "xy_data1 = np.vstack((x1, y1)).T\n",
    "xy_data2 = np.vstack((x2, y2)).T\n",
    "\n",
    "\n",
    "# data[:,0] : x\n",
    "# data[:,1] : y\n",
    "# data[:,2] : label {0, 1}"
   ]
  },
  {
   "cell_type": "markdown",
   "metadata": {},
   "source": [
    "## plot the data"
   ]
  },
  {
   "cell_type": "code",
   "execution_count": null,
   "metadata": {},
   "outputs": [],
   "source": []
  },
  {
   "cell_type": "markdown",
   "metadata": {},
   "source": [
    "## define the feature function for each data to obtain the best accuracy"
   ]
  },
  {
   "cell_type": "code",
   "execution_count": 3,
   "metadata": {},
   "outputs": [
    {
     "name": "stdout",
     "output_type": "stream",
     "text": [
      "(1000, 6)\n"
     ]
    }
   ],
   "source": [
    "def feature_function1(x, y):\n",
    "    num_data = x.shape[0]\n",
    "    first = np.ones(num_data)\n",
    "    feature = np.column_stack([first, x, y, x*x, x*y, y*y])\n",
    "    return feature\n",
    "feature = feature_function1(x1, y1)\n",
    "print(feature.shape)"
   ]
  },
  {
   "cell_type": "code",
   "execution_count": 4,
   "metadata": {},
   "outputs": [],
   "source": [
    "from math import sin\n",
    "def feature_function2(x, y):     \n",
    "    num_data = x.shape[0]\n",
    "    first = np.ones(num_data)\n",
    "    sinX = np.zeros(num_data)\n",
    "    for i in range(num_data):\n",
    "        sinX[i]  = sin(x[i])\n",
    "    feature = np.column_stack([first, x, y, sinX])\n",
    "    return feature"
   ]
  },
  {
   "cell_type": "markdown",
   "metadata": {},
   "source": [
    "## define regression function with a vector $\\theta$ model parameters and input data "
   ]
  },
  {
   "cell_type": "code",
   "execution_count": 5,
   "metadata": {},
   "outputs": [],
   "source": [
    "def regression_function(theta, feature):\n",
    "    value = np.dot(feature, theta)\n",
    "    return value"
   ]
  },
  {
   "cell_type": "markdown",
   "metadata": {},
   "source": [
    "## define sigmoid function with input $x$"
   ]
  },
  {
   "cell_type": "code",
   "execution_count": 6,
   "metadata": {},
   "outputs": [],
   "source": [
    "def logistic_function(x):\n",
    "    for _ in range(len(x)) :\n",
    "        z = 1/(1+np.exp(-x))\n",
    "    return z"
   ]
  },
  {
   "cell_type": "markdown",
   "metadata": {},
   "source": [
    "## define loss function with feature and label based on the logistic regression"
   ]
  },
  {
   "cell_type": "code",
   "execution_count": 7,
   "metadata": {},
   "outputs": [],
   "source": [
    "def compute_loss_feature(theta, feature, label):\n",
    "    z = regression_function(theta, feature)\n",
    "    h = logistic_function(z)\n",
    "    loss = (-label * np.log(h) - (1 - label) * np.log(1 - h)).mean()\n",
    "    return loss"
   ]
  },
  {
   "cell_type": "markdown",
   "metadata": {},
   "source": [
    "## define gradient vector for the model parameters $\\theta$"
   ]
  },
  {
   "cell_type": "code",
   "execution_count": 8,
   "metadata": {},
   "outputs": [],
   "source": [
    "def compute_gradient_feature(theta, feature, label):\n",
    "    z = regression_function(theta, feature)\n",
    "    h = logistic_function(z)\n",
    "    X = feature\n",
    "    gradient = np.dot(X.T, (h - label)) / label.shape[0]\n",
    "    return gradient"
   ]
  },
  {
   "cell_type": "markdown",
   "metadata": {},
   "source": [
    "## compute the accuracy"
   ]
  },
  {
   "cell_type": "code",
   "execution_count": 9,
   "metadata": {},
   "outputs": [],
   "source": [
    "def compute_accuracy(theta, feature, label):\n",
    "    z = regression_function(theta, feature)\n",
    "    h = logistic_function(z)\n",
    "    predict_label = np.where(h.T>=0.5, 1, 0)\n",
    "    correctNum = 0\n",
    "    for i in range(0, len(label)) :\n",
    "        if (label[i] == predict_label[i]) :\n",
    "            correctNum += 1\n",
    "    accuracy = correctNum / len(label)\n",
    "    return accuracy"
   ]
  },
  {
   "cell_type": "markdown",
   "metadata": {},
   "source": [
    "## gradient descent for the model parameters $\\theta$"
   ]
  },
  {
   "cell_type": "code",
   "execution_count": 10,
   "metadata": {
    "tags": []
   },
   "outputs": [],
   "source": [
    "num_iteration   = 100         # USE THIS VALUE for the number of gradient descent iterations \n",
    "learning_rate   = 0.3           # USE THIS VALUE for the learning rate\n",
    "theta1           = np.array((0, 0, 0, 0, 0, 0))   # USE THIS VALUE for the initial condition of the model parameters\n",
    "theta2           = np.array((0, 0, 0, 0))\n",
    "theta1_iteration = np.zeros((num_iteration, theta1.size))\n",
    "loss1_iteration  = np.zeros(num_iteration)\n",
    "theta2_iteration = np.zeros((num_iteration, theta2.size))\n",
    "loss2_iteration  = np.zeros(num_iteration)\n",
    "feature1 = feature_function1(x1, y1)\n",
    "feature2 = feature_function2(x2, y2)"
   ]
  },
  {
   "cell_type": "code",
   "execution_count": 11,
   "metadata": {
    "tags": []
   },
   "outputs": [
    {
     "name": "stdout",
     "output_type": "stream",
     "text": [
      "iteration =    0, loss = 0.72428\n",
      "iteration =    1, loss = 0.57369\n",
      "iteration =    2, loss = 0.54468\n",
      "iteration =    3, loss = 0.52980\n",
      "iteration =    4, loss = 0.51470\n",
      "iteration =    5, loss = 0.50205\n",
      "iteration =    6, loss = 0.48955\n",
      "iteration =    7, loss = 0.47822\n",
      "iteration =    8, loss = 0.46716\n",
      "iteration =    9, loss = 0.45680\n",
      "iteration =   10, loss = 0.44675\n",
      "iteration =   11, loss = 0.43718\n",
      "iteration =   12, loss = 0.42794\n",
      "iteration =   13, loss = 0.41906\n",
      "iteration =   14, loss = 0.41050\n",
      "iteration =   15, loss = 0.40224\n",
      "iteration =   16, loss = 0.39427\n",
      "iteration =   17, loss = 0.38657\n",
      "iteration =   18, loss = 0.37913\n",
      "iteration =   19, loss = 0.37193\n",
      "iteration =   20, loss = 0.36497\n",
      "iteration =   21, loss = 0.35823\n",
      "iteration =   22, loss = 0.35170\n",
      "iteration =   23, loss = 0.34539\n",
      "iteration =   24, loss = 0.33927\n",
      "iteration =   25, loss = 0.33334\n",
      "iteration =   26, loss = 0.32759\n",
      "iteration =   27, loss = 0.32202\n",
      "iteration =   28, loss = 0.31662\n",
      "iteration =   29, loss = 0.31137\n",
      "iteration =   30, loss = 0.30629\n",
      "iteration =   31, loss = 0.30136\n",
      "iteration =   32, loss = 0.29657\n",
      "iteration =   33, loss = 0.29191\n",
      "iteration =   34, loss = 0.28739\n",
      "iteration =   35, loss = 0.28300\n",
      "iteration =   36, loss = 0.27874\n",
      "iteration =   37, loss = 0.27459\n",
      "iteration =   38, loss = 0.27056\n",
      "iteration =   39, loss = 0.26663\n",
      "iteration =   40, loss = 0.26282\n",
      "iteration =   41, loss = 0.25910\n",
      "iteration =   42, loss = 0.25549\n",
      "iteration =   43, loss = 0.25197\n",
      "iteration =   44, loss = 0.24854\n",
      "iteration =   45, loss = 0.24520\n",
      "iteration =   46, loss = 0.24195\n",
      "iteration =   47, loss = 0.23878\n",
      "iteration =   48, loss = 0.23568\n",
      "iteration =   49, loss = 0.23267\n",
      "iteration =   50, loss = 0.22973\n",
      "iteration =   51, loss = 0.22686\n",
      "iteration =   52, loss = 0.22406\n",
      "iteration =   53, loss = 0.22132\n",
      "iteration =   54, loss = 0.21866\n",
      "iteration =   55, loss = 0.21605\n",
      "iteration =   56, loss = 0.21351\n",
      "iteration =   57, loss = 0.21102\n",
      "iteration =   58, loss = 0.20859\n",
      "iteration =   59, loss = 0.20622\n",
      "iteration =   60, loss = 0.20390\n",
      "iteration =   61, loss = 0.20163\n",
      "iteration =   62, loss = 0.19941\n",
      "iteration =   63, loss = 0.19723\n",
      "iteration =   64, loss = 0.19511\n",
      "iteration =   65, loss = 0.19303\n",
      "iteration =   66, loss = 0.19100\n",
      "iteration =   67, loss = 0.18901\n",
      "iteration =   68, loss = 0.18705\n",
      "iteration =   69, loss = 0.18514\n",
      "iteration =   70, loss = 0.18327\n",
      "iteration =   71, loss = 0.18144\n",
      "iteration =   72, loss = 0.17964\n",
      "iteration =   73, loss = 0.17788\n",
      "iteration =   74, loss = 0.17616\n",
      "iteration =   75, loss = 0.17447\n",
      "iteration =   76, loss = 0.17281\n",
      "iteration =   77, loss = 0.17118\n",
      "iteration =   78, loss = 0.16959\n",
      "iteration =   79, loss = 0.16802\n",
      "iteration =   80, loss = 0.16649\n",
      "iteration =   81, loss = 0.16498\n",
      "iteration =   82, loss = 0.16350\n",
      "iteration =   83, loss = 0.16205\n",
      "iteration =   84, loss = 0.16062\n",
      "iteration =   85, loss = 0.15922\n",
      "iteration =   86, loss = 0.15785\n",
      "iteration =   87, loss = 0.15650\n",
      "iteration =   88, loss = 0.15517\n",
      "iteration =   89, loss = 0.15387\n",
      "iteration =   90, loss = 0.15258\n",
      "iteration =   91, loss = 0.15133\n",
      "iteration =   92, loss = 0.15009\n",
      "iteration =   93, loss = 0.14887\n",
      "iteration =   94, loss = 0.14767\n",
      "iteration =   95, loss = 0.14650\n",
      "iteration =   96, loss = 0.14534\n",
      "iteration =   97, loss = 0.14420\n",
      "iteration =   98, loss = 0.14309\n",
      "iteration =   99, loss = 0.14198\n",
      "###########################################################\n",
      "iteration =    0, loss = 0.14198\n",
      "iteration =    1, loss = 0.14198\n",
      "iteration =    2, loss = 0.14198\n",
      "iteration =    3, loss = 0.14198\n",
      "iteration =    4, loss = 0.14198\n",
      "iteration =    5, loss = 0.14198\n",
      "iteration =    6, loss = 0.14198\n",
      "iteration =    7, loss = 0.14198\n",
      "iteration =    8, loss = 0.14198\n",
      "iteration =    9, loss = 0.14198\n",
      "iteration =   10, loss = 0.14198\n",
      "iteration =   11, loss = 0.14198\n",
      "iteration =   12, loss = 0.14198\n",
      "iteration =   13, loss = 0.14198\n",
      "iteration =   14, loss = 0.14198\n",
      "iteration =   15, loss = 0.14198\n",
      "iteration =   16, loss = 0.14198\n",
      "iteration =   17, loss = 0.14198\n",
      "iteration =   18, loss = 0.14198\n",
      "iteration =   19, loss = 0.14198\n",
      "iteration =   20, loss = 0.14198\n",
      "iteration =   21, loss = 0.14198\n",
      "iteration =   22, loss = 0.14198\n",
      "iteration =   23, loss = 0.14198\n",
      "iteration =   24, loss = 0.14198\n",
      "iteration =   25, loss = 0.14198\n",
      "iteration =   26, loss = 0.14198\n",
      "iteration =   27, loss = 0.14198\n",
      "iteration =   28, loss = 0.14198\n",
      "iteration =   29, loss = 0.14198\n",
      "iteration =   30, loss = 0.14198\n",
      "iteration =   31, loss = 0.14198\n",
      "iteration =   32, loss = 0.14198\n",
      "iteration =   33, loss = 0.14198\n",
      "iteration =   34, loss = 0.14198\n",
      "iteration =   35, loss = 0.14198\n",
      "iteration =   36, loss = 0.14198\n",
      "iteration =   37, loss = 0.14198\n",
      "iteration =   38, loss = 0.14198\n",
      "iteration =   39, loss = 0.14198\n",
      "iteration =   40, loss = 0.14198\n",
      "iteration =   41, loss = 0.14198\n",
      "iteration =   42, loss = 0.14198\n",
      "iteration =   43, loss = 0.14198\n",
      "iteration =   44, loss = 0.14198\n",
      "iteration =   45, loss = 0.14198\n",
      "iteration =   46, loss = 0.14198\n",
      "iteration =   47, loss = 0.14198\n",
      "iteration =   48, loss = 0.14198\n",
      "iteration =   49, loss = 0.14198\n",
      "iteration =   50, loss = 0.14198\n",
      "iteration =   51, loss = 0.14198\n",
      "iteration =   52, loss = 0.14198\n",
      "iteration =   53, loss = 0.14198\n",
      "iteration =   54, loss = 0.14198\n",
      "iteration =   55, loss = 0.14198\n",
      "iteration =   56, loss = 0.14198\n",
      "iteration =   57, loss = 0.14198\n",
      "iteration =   58, loss = 0.14198\n",
      "iteration =   59, loss = 0.14198\n",
      "iteration =   60, loss = 0.14198\n",
      "iteration =   61, loss = 0.14198\n",
      "iteration =   62, loss = 0.14198\n",
      "iteration =   63, loss = 0.14198\n",
      "iteration =   64, loss = 0.14198\n",
      "iteration =   65, loss = 0.14198\n",
      "iteration =   66, loss = 0.14198\n",
      "iteration =   67, loss = 0.14198\n",
      "iteration =   68, loss = 0.14198\n",
      "iteration =   69, loss = 0.14198\n",
      "iteration =   70, loss = 0.14198\n",
      "iteration =   71, loss = 0.14198\n",
      "iteration =   72, loss = 0.14198\n",
      "iteration =   73, loss = 0.14198\n",
      "iteration =   74, loss = 0.14198\n",
      "iteration =   75, loss = 0.14198\n",
      "iteration =   76, loss = 0.14198\n",
      "iteration =   77, loss = 0.14198\n",
      "iteration =   78, loss = 0.14198\n",
      "iteration =   79, loss = 0.14198\n",
      "iteration =   80, loss = 0.14198\n",
      "iteration =   81, loss = 0.14198\n",
      "iteration =   82, loss = 0.14198\n",
      "iteration =   83, loss = 0.14198\n",
      "iteration =   84, loss = 0.14198\n",
      "iteration =   85, loss = 0.14198\n",
      "iteration =   86, loss = 0.14198\n",
      "iteration =   87, loss = 0.14198\n",
      "iteration =   88, loss = 0.14198\n",
      "iteration =   89, loss = 0.14198\n",
      "iteration =   90, loss = 0.14198\n",
      "iteration =   91, loss = 0.14198\n",
      "iteration =   92, loss = 0.14198\n",
      "iteration =   93, loss = 0.14198\n",
      "iteration =   94, loss = 0.14198\n",
      "iteration =   95, loss = 0.14198\n",
      "iteration =   96, loss = 0.14198\n",
      "iteration =   97, loss = 0.14198\n",
      "iteration =   98, loss = 0.14198\n",
      "iteration =   99, loss = 0.14198\n"
     ]
    }
   ],
   "source": [
    "for i in range(num_iteration):\n",
    "    theta1 = theta1 - learning_rate * compute_gradient_feature(theta1, feature1, label1)\n",
    "    loss1 = compute_loss_feature(theta1, feature1, label1)\n",
    "    theta1_iteration[i] = theta1\n",
    "    loss1_iteration[i] = loss1\n",
    "    print(\"iteration = %4d, loss = %5.5f\" % (i, loss1))\n",
    "print(\"###########################################################\")\n",
    "for i in range(num_iteration):\n",
    "    theta2 = theta2 - learning_rate * compute_gradient_feature(theta2, feature2, label2)\n",
    "    loss2 = compute_loss_feature(theta2, feature2, label2)\n",
    "    theta2_iteration[i] = theta2\n",
    "    loss2_iteration[i] = loss2\n",
    "    print(\"iteration = %4d, loss = %5.5f\" % (i, loss1))\n",
    "    \n",
    "theta1_optimal = theta1\n",
    "theta2_optimal = theta2"
   ]
  },
  {
   "cell_type": "markdown",
   "metadata": {},
   "source": [
    "## compute accuracy of the classifiers"
   ]
  },
  {
   "cell_type": "code",
   "execution_count": 12,
   "metadata": {},
   "outputs": [
    {
     "name": "stdout",
     "output_type": "stream",
     "text": [
      "0.998\n",
      "0.853\n"
     ]
    }
   ],
   "source": [
    "accuracy_classifier1 = compute_accuracy(theta1_optimal, feature1, label1)\n",
    "accuracy_classifier2 = compute_accuracy(theta2_optimal, feature2, label2)\n",
    "print(accuracy_classifier1)\n",
    "print(accuracy_classifier2)"
   ]
  },
  {
   "cell_type": "markdown",
   "metadata": {},
   "source": [
    "## plot the results"
   ]
  },
  {
   "cell_type": "code",
   "execution_count": 34,
   "metadata": {},
   "outputs": [],
   "source": [
    "def plot_loss_curve(loss_iteration):\n",
    "\n",
    "    plt.figure(figsize=(8,6))   \n",
    "    plt.title('loss')\n",
    "\n",
    "    plt.plot(loss_iteration, '-', color = 'red')\n",
    "\n",
    "    plt.xlabel('iteration')\n",
    "    plt.ylabel('loss')\n",
    "\n",
    "    plt.tight_layout()\n",
    "    plt.show()"
   ]
  },
  {
   "cell_type": "code",
   "execution_count": 35,
   "metadata": {},
   "outputs": [],
   "source": [
    "def plot_data(point_x, point_y, label):\n",
    "    plt.figure(figsize=(8,8))\n",
    "\n",
    "    plt.title('data')\n",
    "    xx = []\n",
    "    yy = []\n",
    "    xxx = []\n",
    "    yyy = []\n",
    "    for i in range(0, num_data1) :\n",
    "        x = point_x[i]\n",
    "        y = point_y[i]\n",
    "        if label[i] == 0 :\n",
    "            xx.append(x)\n",
    "            yy.append(y)\n",
    "        elif label[i] == 1 :\n",
    "            xxx.append(x)\n",
    "            yyy.append(y)\n",
    "    plt.scatter(xx,yy,c='blue', label = 'Class = 0')\n",
    "    plt.scatter(xxx,yyy,c='red', label = 'Class = 1')\n",
    "\n",
    "    plt.legend()\n",
    "    plt.tight_layout()\n",
    "    plt.show()"
   ]
  },
  {
   "cell_type": "code",
   "execution_count": 36,
   "metadata": {},
   "outputs": [],
   "source": [
    "\n",
    "def plot_model_parameter(theta_iteration):\n",
    "\n",
    "    plt.figure(figsize=(8,6))\n",
    "    plt.title('model parameter')\n",
    "    thetaT = theta_iteration.T\n",
    "    plt.plot(thetaT[0], '-', color = 'red', label = 'theta0')\n",
    "    plt.plot(thetaT[1], '-', color = 'green', label = 'theta1')\n",
    "    plt.plot(thetaT[2], '-', color = 'blue', label = 'theta2')\n",
    "    plt.plot(thetaT[3], '-', color = 'black', label = 'theta3')\n",
    "    if len(thetaT) > 4 :\n",
    "        plt.plot(thetaT[4], '-', color = 'orange', label = 'theta4')\n",
    "        plt.plot(thetaT[5], '-', color = 'skyblue', label = 'theta5')\n",
    "\n",
    "    plt.xlabel('iteration')\n",
    "    plt.legend()\n",
    "\n",
    "    plt.tight_layout()\n",
    "    plt.show()"
   ]
  },
  {
   "cell_type": "code",
   "execution_count": 37,
   "metadata": {
    "scrolled": false
   },
   "outputs": [
    {
     "data": {
      "image/png": "[encoded data removed]",
      "text/plain": [
       "<Figure size 576x432 with 1 Axes>"
      ]
     },
     "metadata": {
      "needs_background": "light"
     },
     "output_type": "display_data"
    }
   ],
   "source": [
    "plot_loss_curve(loss1_iteration)"
   ]
  },
  {
   "cell_type": "code",
   "execution_count": 38,
   "metadata": {},
   "outputs": [
    {
     "data": {
      "image/png": "[encoded data removed]",
      "text/plain": [
       "<Figure size 576x432 with 1 Axes>"
      ]
     },
     "metadata": {
      "needs_background": "light"
     },
     "output_type": "display_data"
    }
   ],
   "source": [
    "plot_loss_curve(loss2_iteration)"
   ]
  },
  {
   "cell_type": "code",
   "execution_count": 39,
   "metadata": {},
   "outputs": [
    {
     "data": {
      "image/png": "[encoded data removed]",
      "text/plain": [
       "<Figure size 576x432 with 1 Axes>"
      ]
     },
     "metadata": {
      "needs_background": "light"
     },
     "output_type": "display_data"
    }
   ],
   "source": [
    "plot_model_parameter(theta1_iteration)"
   ]
  },
  {
   "cell_type": "code",
   "execution_count": 40,
   "metadata": {},
   "outputs": [
    {
     "data": {
      "image/png": "[encoded data removed]",
      "text/plain": [
       "<Figure size 576x432 with 1 Axes>"
      ]
     },
     "metadata": {
      "needs_background": "light"
     },
     "output_type": "display_data"
    }
   ],
   "source": [
    "plot_model_parameter(theta2_iteration)"
   ]
  },
  {
   "cell_type": "code",
   "execution_count": 41,
   "metadata": {},
   "outputs": [],
   "source": [
    "def plot_classifier1(data, theta):\n",
    "    \n",
    "    plt.figure(figsize=(8,8)) # USE THIS VALUE for the size of the figure\n",
    "    #\n",
    "    # \n",
    "    # fill up the function body\n",
    "    #\n",
    "    #"
   ]
  },
  {
   "cell_type": "code",
   "execution_count": 42,
   "metadata": {},
   "outputs": [],
   "source": [
    "def plot_classifier2(data, theta):\n",
    "    \n",
    "    plt.figure(figsize=(8,8)) # USE THIS VALUE for the size of the figure\n",
    "    #\n",
    "    # \n",
    "    # fill up the function body\n",
    "    #\n",
    "    #"
   ]
  },
  {
   "cell_type": "code",
   "execution_count": 43,
   "metadata": {},
   "outputs": [
    {
     "data": {
      "text/plain": [
       "<Figure size 576x576 with 0 Axes>"
      ]
     },
     "metadata": {},
     "output_type": "display_data"
    }
   ],
   "source": [
    "plot_classifier1(data1, theta1_optimal)"
   ]
  },
  {
   "cell_type": "code",
   "execution_count": 44,
   "metadata": {},
   "outputs": [
    {
     "data": {
      "text/plain": [
       "<Figure size 576x576 with 0 Axes>"
      ]
     },
     "metadata": {},
     "output_type": "display_data"
    }
   ],
   "source": [
    "plot_classifier2(data2, theta2_optimal)"
   ]
  },
  {
   "cell_type": "markdown",
   "metadata": {},
   "source": [
    "# * * * * * * * * * * * * * * * * * * * * * * * * * * * * * * * * *"
   ]
  },
  {
   "cell_type": "markdown",
   "metadata": {},
   "source": [
    "# * results"
   ]
  },
  {
   "cell_type": "markdown",
   "metadata": {},
   "source": [
    "# * * * * * * * * * * * * * * * * * * * * * * * * * * * * * * * * *"
   ]
  },
  {
   "cell_type": "markdown",
   "metadata": {},
   "source": [
    "### # 01. plot the input data (data1) from the file [assignment_09_data1.txt] in blue for class 0 and in red for class 1"
   ]
  },
  {
   "cell_type": "code",
   "execution_count": 24,
   "metadata": {},
   "outputs": [
    {
     "data": {
      "image/png": "[encoded data removed]",
      "text/plain": [
       "<Figure size 576x576 with 1 Axes>"
      ]
     },
     "metadata": {
      "needs_background": "light"
     },
     "output_type": "display_data"
    }
   ],
   "source": [
    "plot_data(x1,y1,label1)"
   ]
  },
  {
   "cell_type": "markdown",
   "metadata": {},
   "source": [
    "### # 02. plot the input data (data2) from the file [assignment_09_data2.txt] in blue for class 0 and in red for class 1"
   ]
  },
  {
   "cell_type": "code",
   "execution_count": 25,
   "metadata": {},
   "outputs": [
    {
     "data": {
      "image/png": "[encoded data removed]",
      "text/plain": [
       "<Figure size 576x576 with 1 Axes>"
      ]
     },
     "metadata": {
      "needs_background": "light"
     },
     "output_type": "display_data"
    }
   ],
   "source": [
    "plot_data(x2,y2,label2)"
   ]
  },
  {
   "cell_type": "markdown",
   "metadata": {},
   "source": [
    "### # 03. plot the values of the model parameters $\\theta$ as curves over the gradient descent iterations using different colors for data1"
   ]
  },
  {
   "cell_type": "code",
   "execution_count": 26,
   "metadata": {},
   "outputs": [
    {
     "data": {
      "text/plain": [
       "<Figure size 576x432 with 0 Axes>"
      ]
     },
     "metadata": {},
     "output_type": "display_data"
    }
   ],
   "source": [
    "plot_model_parameter(theta1_iteration)"
   ]
  },
  {
   "cell_type": "markdown",
   "metadata": {},
   "source": [
    "### # 04. plot the values of the model parameters $\\theta$ as curves over the gradient descent iterations using different colors for data2"
   ]
  },
  {
   "cell_type": "code",
   "execution_count": 27,
   "metadata": {},
   "outputs": [
    {
     "data": {
      "text/plain": [
       "<Figure size 576x432 with 0 Axes>"
      ]
     },
     "metadata": {},
     "output_type": "display_data"
    }
   ],
   "source": [
    "plot_model_parameter(theta2_iteration)"
   ]
  },
  {
   "cell_type": "markdown",
   "metadata": {},
   "source": [
    "### # 05. plot the loss values in red curve over the gradient descent iterations for data1"
   ]
  },
  {
   "cell_type": "code",
   "execution_count": 28,
   "metadata": {},
   "outputs": [
    {
     "data": {
      "text/plain": [
       "<Figure size 576x432 with 0 Axes>"
      ]
     },
     "metadata": {},
     "output_type": "display_data"
    }
   ],
   "source": [
    "plot_loss_curve(loss1_iteration)"
   ]
  },
  {
   "cell_type": "markdown",
   "metadata": {},
   "source": [
    "### # 06. plot the loss values in red curve over the gradient descent iterations for data2"
   ]
  },
  {
   "cell_type": "code",
   "execution_count": 29,
   "metadata": {},
   "outputs": [
    {
     "data": {
      "text/plain": [
       "<Figure size 576x432 with 0 Axes>"
      ]
     },
     "metadata": {},
     "output_type": "display_data"
    }
   ],
   "source": [
    "plot_loss_curve(loss2_iteration)"
   ]
  },
  {
   "cell_type": "markdown",
   "metadata": {},
   "source": [
    "### # 07. plot the classifier with the given data points superimposed for data1"
   ]
  },
  {
   "cell_type": "code",
   "execution_count": 30,
   "metadata": {},
   "outputs": [
    {
     "data": {
      "text/plain": [
       "<Figure size 576x576 with 0 Axes>"
      ]
     },
     "metadata": {},
     "output_type": "display_data"
    }
   ],
   "source": [
    "plot_classifier1(data1, theta1_optimal)"
   ]
  },
  {
   "cell_type": "markdown",
   "metadata": {},
   "source": [
    "### # 08. plot the classifier with the given data points superimposed for data2"
   ]
  },
  {
   "cell_type": "code",
   "execution_count": 31,
   "metadata": {},
   "outputs": [
    {
     "data": {
      "text/plain": [
       "<Figure size 576x576 with 0 Axes>"
      ]
     },
     "metadata": {},
     "output_type": "display_data"
    }
   ],
   "source": [
    "plot_classifier2(data2, theta2_optimal)"
   ]
  },
  {
   "cell_type": "markdown",
   "metadata": {},
   "source": [
    "### # 09. print out the accuracy of the obtained classifier1 for data1"
   ]
  },
  {
   "cell_type": "code",
   "execution_count": 32,
   "metadata": {},
   "outputs": [
    {
     "name": "stdout",
     "output_type": "stream",
     "text": [
      "0.998\n"
     ]
    }
   ],
   "source": [
    "print(accuracy_classifier1)"
   ]
  },
  {
   "cell_type": "markdown",
   "metadata": {},
   "source": [
    "### # 10. print out the accuracy of the obtained classifier2 for data1"
   ]
  },
  {
   "cell_type": "code",
   "execution_count": 33,
   "metadata": {},
   "outputs": [
    {
     "name": "stdout",
     "output_type": "stream",
     "text": [
      "0.853\n"
     ]
    }
   ],
   "source": [
    "print(accuracy_classifier2)"
   ]
  }
 ],
 "metadata": {
  "kernelspec": {
   "display_name": "Python 3",
   "language": "python",
   "name": "python3"
  },
  "language_info": {
   "codemirror_mode": {
    "name": "ipython",
    "version": 3
   },
   "file_extension": ".py",
   "mimetype": "text/x-python",
   "name": "python",
   "nbconvert_exporter": "python",
   "pygments_lexer": "ipython3",
   "version": "3.8.5"
  },
  "metadata": {
   "interpreter": {
    "hash": "31f2aee4e71d21fbe5cf8b01ff0e069b9275f58929596ceb00d14d90e3e16cd6"
   }
  }
 },
 "nbformat": 4,
 "nbformat_minor": 2
}
